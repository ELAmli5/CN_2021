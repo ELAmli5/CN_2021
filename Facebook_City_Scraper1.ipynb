{
 "cells": [
  {
   "cell_type": "code",
   "execution_count": 2,
   "metadata": {},
   "outputs": [],
   "source": [
    "import os\n",
    "from bs4 import BeautifulSoup\n",
    "import re\n",
    "import pandas as pd\n"
   ]
  },
  {
   "cell_type": "code",
   "execution_count": 3,
   "metadata": {},
   "outputs": [
    {
     "name": "stdout",
     "output_type": "stream",
     "text": [
      "['Data_1.html', 'Data_2.html', 'Data_3.html', 'Data_4.html', 'Data_5.html']\n"
     ]
    }
   ],
   "source": [
    "data_path = \"./Youssoufia\"\n",
    "data_dir_list = os.listdir(data_path)\n",
    "\n",
    "names=[]\n",
    "for dataset in data_dir_list:\n",
    "    names.append(dataset)\n",
    "print(names)"
   ]
  },
  {
   "cell_type": "code",
   "execution_count": 4,
   "metadata": {},
   "outputs": [],
   "source": [
    "\n",
    "Soup=[]\n",
    "for file in data_dir_list:\n",
    "    Soup.append(BeautifulSoup(open(data_path+'/'+ file, encoding=\"utf8\"), \"html.parser\")) \n",
    "\n",
    "#print(soup.find_all(\"div\", class_=\"someclass\"))"
   ]
  },
  {
   "cell_type": "code",
   "execution_count": 5,
   "metadata": {},
   "outputs": [],
   "source": [
    "User_data=[]\n",
    "for k in Soup:\n",
    "    User_data.append(k.find_all(class_=\"oajrlxb2 g5ia77u1 qu0x051f esr5mh6w e9989ue4 r7d6kgcz rq0escxv nhd2j8a9 nc684nl6 p7hjln8o kvgmc6g5 cxmmr5t8 oygrvhab hcukyx3x jb3vyjys rz4wbd8a qt6c0cv9 a8nywdso i1ao9s8h esuyzwwr f1sip0of lzcic4wl oo9gr5id gpro0wi8 lrazzd5p dkezsu63\",href=True))"
   ]
  },
  {
   "cell_type": "code",
   "execution_count": 6,
   "metadata": {},
   "outputs": [],
   "source": [
    "Members=[]\n",
    "links=[]\n",
    "for H in User_data:\n",
    "    for j in H:\n",
    "        Members.append(j.get_text())\n",
    "        links.append(j['href'])\n"
   ]
  },
  {
   "cell_type": "code",
   "execution_count": 7,
   "metadata": {},
   "outputs": [],
   "source": [
    "uid1=[]\n",
    "uid2=[]\n",
    "user_ids=[]\n",
    "for c in links:\n",
    "    if c.split(\"com/\")[1][0:7]=='profile':\n",
    "        y=c.split(\"php?id=\")\n",
    "        uid1.append(y[1])\n",
    "    else:\n",
    "        uid2.append(c.split(\"com/\")[1])\n",
    "\n",
    "user_ids=uid1+uid2"
   ]
  },
  {
   "cell_type": "code",
   "execution_count": 8,
   "metadata": {},
   "outputs": [],
   "source": [
    "df = pd.DataFrame(list(zip(Members, user_ids,links)),columns =['User_name', 'User_id','Links'])\n",
    "\n",
    "df.to_csv(r'Youssoufia_Datas3.csv',index=False,encoding='utf-8-sig')"
   ]
  },
  {
   "cell_type": "code",
   "execution_count": 9,
   "metadata": {},
   "outputs": [
    {
     "data": {
      "text/html": [
       "<div>\n",
       "<style scoped>\n",
       "    .dataframe tbody tr th:only-of-type {\n",
       "        vertical-align: middle;\n",
       "    }\n",
       "\n",
       "    .dataframe tbody tr th {\n",
       "        vertical-align: top;\n",
       "    }\n",
       "\n",
       "    .dataframe thead th {\n",
       "        text-align: right;\n",
       "    }\n",
       "</style>\n",
       "<table border=\"1\" class=\"dataframe\">\n",
       "  <thead>\n",
       "    <tr style=\"text-align: right;\">\n",
       "      <th></th>\n",
       "      <th>User_name</th>\n",
       "      <th>User_id</th>\n",
       "      <th>Links</th>\n",
       "    </tr>\n",
       "  </thead>\n",
       "  <tbody>\n",
       "    <tr>\n",
       "      <th>0</th>\n",
       "      <td>Ahmed Ahmed</td>\n",
       "      <td>100067830085940</td>\n",
       "      <td>https://www.facebook.com/fourar.ahmed</td>\n",
       "    </tr>\n",
       "    <tr>\n",
       "      <th>1</th>\n",
       "      <td>Ahmed Ahmed</td>\n",
       "      <td>100006189945815</td>\n",
       "      <td>https://www.facebook.com/ahmed.zamama</td>\n",
       "    </tr>\n",
       "    <tr>\n",
       "      <th>2</th>\n",
       "      <td>Ahmed Ahmed</td>\n",
       "      <td>100009494831059</td>\n",
       "      <td>https://www.facebook.com/ahmed.crezy1</td>\n",
       "    </tr>\n",
       "    <tr>\n",
       "      <th>3</th>\n",
       "      <td>Ahmed Ahmed (Starnetorg)</td>\n",
       "      <td>100065374677240</td>\n",
       "      <td>https://www.facebook.com/ahmed.hmidat.35</td>\n",
       "    </tr>\n",
       "    <tr>\n",
       "      <th>4</th>\n",
       "      <td>Jr Ahmed</td>\n",
       "      <td>100067097263517</td>\n",
       "      <td>https://www.facebook.com/jr.ahmed.3388</td>\n",
       "    </tr>\n",
       "    <tr>\n",
       "      <th>...</th>\n",
       "      <td>...</td>\n",
       "      <td>...</td>\n",
       "      <td>...</td>\n",
       "    </tr>\n",
       "    <tr>\n",
       "      <th>2362</th>\n",
       "      <td>Yassine Ezzari</td>\n",
       "      <td>khalid.rofix.52</td>\n",
       "      <td>https://www.facebook.com/profile.php?id=100011...</td>\n",
       "    </tr>\n",
       "    <tr>\n",
       "      <th>2363</th>\n",
       "      <td>Yassine Tebbaa</td>\n",
       "      <td>yassin.lofi.3</td>\n",
       "      <td>https://www.facebook.com/profile.php?id=100009...</td>\n",
       "    </tr>\n",
       "    <tr>\n",
       "      <th>2364</th>\n",
       "      <td>WF ÝâSsîñë</td>\n",
       "      <td>issam.mouktahime.7</td>\n",
       "      <td>https://www.facebook.com/profile.php?id=100009...</td>\n",
       "    </tr>\n",
       "    <tr>\n",
       "      <th>2365</th>\n",
       "      <td>YaSsine Dallas</td>\n",
       "      <td>yatussiportne.elu6775</td>\n",
       "      <td>https://www.facebook.com/profile.php?id=100030...</td>\n",
       "    </tr>\n",
       "    <tr>\n",
       "      <th>2366</th>\n",
       "      <td>Yassine NG</td>\n",
       "      <td>zaz.yassin2</td>\n",
       "      <td>https://www.facebook.com/profile.php?id=100005...</td>\n",
       "    </tr>\n",
       "  </tbody>\n",
       "</table>\n",
       "<p>2367 rows × 3 columns</p>\n",
       "</div>"
      ],
      "text/plain": [
       "                     User_name                User_id  \\\n",
       "0                  Ahmed Ahmed        100067830085940   \n",
       "1                  Ahmed Ahmed        100006189945815   \n",
       "2                  Ahmed Ahmed        100009494831059   \n",
       "3     Ahmed Ahmed (Starnetorg)        100065374677240   \n",
       "4                     Jr Ahmed        100067097263517   \n",
       "...                        ...                    ...   \n",
       "2362            Yassine Ezzari        khalid.rofix.52   \n",
       "2363            Yassine Tebbaa          yassin.lofi.3   \n",
       "2364                WF ÝâSsîñë     issam.mouktahime.7   \n",
       "2365            YaSsine Dallas  yatussiportne.elu6775   \n",
       "2366                Yassine NG            zaz.yassin2   \n",
       "\n",
       "                                                  Links  \n",
       "0                 https://www.facebook.com/fourar.ahmed  \n",
       "1                 https://www.facebook.com/ahmed.zamama  \n",
       "2                 https://www.facebook.com/ahmed.crezy1  \n",
       "3              https://www.facebook.com/ahmed.hmidat.35  \n",
       "4                https://www.facebook.com/jr.ahmed.3388  \n",
       "...                                                 ...  \n",
       "2362  https://www.facebook.com/profile.php?id=100011...  \n",
       "2363  https://www.facebook.com/profile.php?id=100009...  \n",
       "2364  https://www.facebook.com/profile.php?id=100009...  \n",
       "2365  https://www.facebook.com/profile.php?id=100030...  \n",
       "2366  https://www.facebook.com/profile.php?id=100005...  \n",
       "\n",
       "[2367 rows x 3 columns]"
      ]
     },
     "execution_count": 9,
     "metadata": {},
     "output_type": "execute_result"
    }
   ],
   "source": [
    "df"
   ]
  },
  {
   "cell_type": "code",
   "execution_count": null,
   "metadata": {},
   "outputs": [],
   "source": []
  }
 ],
 "metadata": {
  "kernelspec": {
   "display_name": "Python 3",
   "language": "python",
   "name": "python3"
  },
  "language_info": {
   "codemirror_mode": {
    "name": "ipython",
    "version": 3
   },
   "file_extension": ".py",
   "mimetype": "text/x-python",
   "name": "python",
   "nbconvert_exporter": "python",
   "pygments_lexer": "ipython3",
   "version": "3.7.6"
  }
 },
 "nbformat": 4,
 "nbformat_minor": 4
}
